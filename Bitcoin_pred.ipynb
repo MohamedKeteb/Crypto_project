{
 "cells": [
  {
   "cell_type": "markdown",
   "id": "ffbca6dc-8211-4152-8366-c4404bb5ba51",
   "metadata": {},
   "source": [
    "# <img src=\"https://m.media-amazon.com/images/W/MEDIAX_792452-T2/images/I/81vOF2Rr2tS.jpg\" width=\"60\" />  \n",
    "# **Prediction of Close Cotation of Bitcoin** \n",
    "### First Step : Load The Data \n",
    "We Load the Data Base wich contains 1 day inteval cotation of Bitcoin from the API \n"
   ]
  },
  {
   "cell_type": "code",
   "execution_count": 4,
   "id": "a801a353-5197-4cd3-bc82-38e325533253",
   "metadata": {},
   "outputs": [],
   "source": [
    "from crypto_module import *"
   ]
  },
  {
   "cell_type": "markdown",
   "id": "2df1a856-c3f1-47dd-943c-e86447b5b3ae",
   "metadata": {},
   "source": [
    "- Use the API"
   ]
  },
  {
   "cell_type": "code",
   "execution_count": 5,
   "id": "4cbf19db-7252-45e2-9180-e6b9d24998de",
   "metadata": {},
   "outputs": [],
   "source": [
    "symbol = 'BTC/USD'\n",
    "interval = '1day'\n",
    "start_date = '2022-01-01 00:00:00'\n",
    "end_date = '2022-12-31 00:00:00'\n",
    "api_key = 'de6ee984b4c24a0c9c7a43d7dca8b75e' # The Api key of Twelvedata.com (800 requests per day)\n",
    "order = 'asc'\n",
    "api_url = f'https://api.twelvedata.com/time_series?symbol={symbol}&start_date={start_date}&end_date={end_date}&interval={interval}&order={order}&apikey={api_key}'\n"
   ]
  },
  {
   "cell_type": "code",
   "execution_count": 6,
   "id": "44af4a91-cd6f-461c-aeeb-e122163e6aea",
   "metadata": {},
   "outputs": [
    {
     "data": {
      "text/html": [
       "<div>\n",
       "<style scoped>\n",
       "    .dataframe tbody tr th:only-of-type {\n",
       "        vertical-align: middle;\n",
       "    }\n",
       "\n",
       "    .dataframe tbody tr th {\n",
       "        vertical-align: top;\n",
       "    }\n",
       "\n",
       "    .dataframe thead th {\n",
       "        text-align: right;\n",
       "    }\n",
       "</style>\n",
       "<table border=\"1\" class=\"dataframe\">\n",
       "  <thead>\n",
       "    <tr style=\"text-align: right;\">\n",
       "      <th></th>\n",
       "      <th>datetime</th>\n",
       "      <th>open</th>\n",
       "      <th>high</th>\n",
       "      <th>low</th>\n",
       "      <th>close</th>\n",
       "    </tr>\n",
       "  </thead>\n",
       "  <tbody>\n",
       "    <tr>\n",
       "      <th>0</th>\n",
       "      <td>2022-01-01</td>\n",
       "      <td>46211.19922</td>\n",
       "      <td>47963.28906</td>\n",
       "      <td>46211.19922</td>\n",
       "      <td>47735.12891</td>\n",
       "    </tr>\n",
       "    <tr>\n",
       "      <th>1</th>\n",
       "      <td>2022-01-02</td>\n",
       "      <td>47730.00000</td>\n",
       "      <td>47966.16016</td>\n",
       "      <td>46695.33984</td>\n",
       "      <td>47305.01172</td>\n",
       "    </tr>\n",
       "    <tr>\n",
       "      <th>2</th>\n",
       "      <td>2022-01-03</td>\n",
       "      <td>47304.21875</td>\n",
       "      <td>47578.96094</td>\n",
       "      <td>45716.50000</td>\n",
       "      <td>46439.19141</td>\n",
       "    </tr>\n",
       "    <tr>\n",
       "      <th>3</th>\n",
       "      <td>2022-01-04</td>\n",
       "      <td>46459.57031</td>\n",
       "      <td>47517.35156</td>\n",
       "      <td>45550.98828</td>\n",
       "      <td>45815.32812</td>\n",
       "    </tr>\n",
       "    <tr>\n",
       "      <th>4</th>\n",
       "      <td>2022-01-05</td>\n",
       "      <td>45811.16016</td>\n",
       "      <td>47054.82812</td>\n",
       "      <td>42500.00000</td>\n",
       "      <td>43437.66016</td>\n",
       "    </tr>\n",
       "    <tr>\n",
       "      <th>...</th>\n",
       "      <td>...</td>\n",
       "      <td>...</td>\n",
       "      <td>...</td>\n",
       "      <td>...</td>\n",
       "      <td>...</td>\n",
       "    </tr>\n",
       "    <tr>\n",
       "      <th>360</th>\n",
       "      <td>2022-12-27</td>\n",
       "      <td>16917.19922</td>\n",
       "      <td>16963.83984</td>\n",
       "      <td>16603.13086</td>\n",
       "      <td>16697.98047</td>\n",
       "    </tr>\n",
       "    <tr>\n",
       "      <th>361</th>\n",
       "      <td>2022-12-28</td>\n",
       "      <td>16697.98047</td>\n",
       "      <td>16773.65039</td>\n",
       "      <td>16467.39062</td>\n",
       "      <td>16538.40039</td>\n",
       "    </tr>\n",
       "    <tr>\n",
       "      <th>362</th>\n",
       "      <td>2022-12-29</td>\n",
       "      <td>16538.07031</td>\n",
       "      <td>16653.00000</td>\n",
       "      <td>16482.10938</td>\n",
       "      <td>16631.19922</td>\n",
       "    </tr>\n",
       "    <tr>\n",
       "      <th>363</th>\n",
       "      <td>2022-12-30</td>\n",
       "      <td>16631.19922</td>\n",
       "      <td>16637.72070</td>\n",
       "      <td>16352.41992</td>\n",
       "      <td>16602.00977</td>\n",
       "    </tr>\n",
       "    <tr>\n",
       "      <th>364</th>\n",
       "      <td>2022-12-31</td>\n",
       "      <td>16601.25000</td>\n",
       "      <td>16628.89062</td>\n",
       "      <td>16466.57031</td>\n",
       "      <td>16528.02930</td>\n",
       "    </tr>\n",
       "  </tbody>\n",
       "</table>\n",
       "<p>365 rows × 5 columns</p>\n",
       "</div>"
      ],
      "text/plain": [
       "       datetime         open         high          low        close\n",
       "0    2022-01-01  46211.19922  47963.28906  46211.19922  47735.12891\n",
       "1    2022-01-02  47730.00000  47966.16016  46695.33984  47305.01172\n",
       "2    2022-01-03  47304.21875  47578.96094  45716.50000  46439.19141\n",
       "3    2022-01-04  46459.57031  47517.35156  45550.98828  45815.32812\n",
       "4    2022-01-05  45811.16016  47054.82812  42500.00000  43437.66016\n",
       "..          ...          ...          ...          ...          ...\n",
       "360  2022-12-27  16917.19922  16963.83984  16603.13086  16697.98047\n",
       "361  2022-12-28  16697.98047  16773.65039  16467.39062  16538.40039\n",
       "362  2022-12-29  16538.07031  16653.00000  16482.10938  16631.19922\n",
       "363  2022-12-30  16631.19922  16637.72070  16352.41992  16602.00977\n",
       "364  2022-12-31  16601.25000  16628.89062  16466.57031  16528.02930\n",
       "\n",
       "[365 rows x 5 columns]"
      ]
     },
     "execution_count": 6,
     "metadata": {},
     "output_type": "execute_result"
    }
   ],
   "source": [
    "data = load_data(symbol, start_date, end_date, interval, api_url)\n",
    "data"
   ]
  },
  {
   "cell_type": "markdown",
   "id": "b68bcfb3-39d8-4f79-a561-4e37c557802e",
   "metadata": {},
   "source": [
    "- We can verifies if the Data Set is clean"
   ]
  },
  {
   "cell_type": "code",
   "execution_count": 7,
   "id": "fe4a0d2b-66ad-4c8c-863a-b00aca87c870",
   "metadata": {},
   "outputs": [
    {
     "data": {
      "text/plain": [
       "datetime    0\n",
       "open        0\n",
       "high        0\n",
       "low         0\n",
       "close       0\n",
       "dtype: int64"
      ]
     },
     "execution_count": 7,
     "metadata": {},
     "output_type": "execute_result"
    }
   ],
   "source": [
    "data.isna().sum()"
   ]
  },
  {
   "cell_type": "markdown",
   "id": "bca826d0-8309-43b3-af39-8035944a174c",
   "metadata": {},
   "source": [
    "- There are no Nan Values, load_data() works\n",
    "- We can verifie if the type of element of the close colone is float to plot it properly"
   ]
  },
  {
   "cell_type": "code",
   "execution_count": 8,
   "id": "d5dfd96c-b91f-453e-bede-a3e71b96a8ee",
   "metadata": {},
   "outputs": [
    {
     "data": {
      "text/plain": [
       "0      47735.12891\n",
       "1      47305.01172\n",
       "2      46439.19141\n",
       "3      45815.32812\n",
       "4      43437.66016\n",
       "          ...     \n",
       "360    16697.98047\n",
       "361    16538.40039\n",
       "362    16631.19922\n",
       "363    16602.00977\n",
       "364    16528.02930\n",
       "Name: close, Length: 365, dtype: float64"
      ]
     },
     "execution_count": 8,
     "metadata": {},
     "output_type": "execute_result"
    }
   ],
   "source": [
    "data['close']"
   ]
  },
  {
   "cell_type": "markdown",
   "id": "17523d22-c8cb-4579-9860-ad89f0d33de6",
   "metadata": {},
   "source": [
    "### We can visualize the Data\n",
    "- We can code two functions for visualizing the Close price and the candels which represent the outcome of the market on the considered interval"
   ]
  },
  {
   "cell_type": "code",
   "execution_count": 10,
   "id": "1bf671a1-94b3-4f4e-9001-01f438ccbdd9",
   "metadata": {},
   "outputs": [
    {
     "data": {
      "image/png": "[encoded data removed]",
      "text/plain": [
       "<Figure size 432x288 with 1 Axes>"
      ]
     },
     "metadata": {},
     "output_type": "display_data"
    },
    {
     "ename": "NameError",
     "evalue": "name 'interval' is not defined",
     "output_type": "error",
     "traceback": [
      "\u001b[1;31m---------------------------------------------------------------------------\u001b[0m",
      "\u001b[1;31mNameError\u001b[0m                                 Traceback (most recent call last)",
      "\u001b[1;32m<ipython-input-10-edeebfc498cc>\u001b[0m in \u001b[0;36m<module>\u001b[1;34m\u001b[0m\n\u001b[0;32m      1\u001b[0m \u001b[0mvisualize_data\u001b[0m\u001b[1;33m(\u001b[0m\u001b[0mdata\u001b[0m\u001b[1;33m,\u001b[0m \u001b[0msymbol\u001b[0m\u001b[1;33m,\u001b[0m \u001b[0minterval\u001b[0m\u001b[1;33m)\u001b[0m\u001b[1;33m\u001b[0m\u001b[1;33m\u001b[0m\u001b[0m\n\u001b[1;32m----> 2\u001b[1;33m \u001b[0mfinance_visualize\u001b[0m\u001b[1;33m(\u001b[0m\u001b[0mdata\u001b[0m\u001b[1;33m,\u001b[0m \u001b[0msymbol\u001b[0m\u001b[1;33m,\u001b[0m \u001b[0minterval\u001b[0m\u001b[1;33m)\u001b[0m\u001b[1;33m\u001b[0m\u001b[1;33m\u001b[0m\u001b[0m\n\u001b[0m",
      "\u001b[1;32mc:\\Users\\keteb\\OneDrive\\Bureau\\github\\Crypto_project\\crypto_module.py\u001b[0m in \u001b[0;36mfinance_visualize\u001b[1;34m(data, symbol, interva)\u001b[0m\n\u001b[0;32m     81\u001b[0m                                      close=data['close'])])\n\u001b[0;32m     82\u001b[0m \u001b[1;33m\u001b[0m\u001b[0m\n\u001b[1;32m---> 83\u001b[1;33m     fig.update_layout(title='Cotation of ' + str(symbol) + ' per ' + str(interval) ,\n\u001b[0m\u001b[0;32m     84\u001b[0m                   \u001b[0mxaxis_title\u001b[0m\u001b[1;33m=\u001b[0m\u001b[1;34m'Date'\u001b[0m\u001b[1;33m,\u001b[0m\u001b[1;33m\u001b[0m\u001b[1;33m\u001b[0m\u001b[0m\n\u001b[0;32m     85\u001b[0m                   \u001b[0myaxis_title\u001b[0m\u001b[1;33m=\u001b[0m\u001b[1;34m'Price in USD'\u001b[0m\u001b[1;33m,\u001b[0m\u001b[1;33m\u001b[0m\u001b[1;33m\u001b[0m\u001b[0m\n",
      "\u001b[1;31mNameError\u001b[0m: name 'interval' is not defined"
     ]
    }
   ],
   "source": [
    "visualize_data(data, symbol, interval)\n",
    "finance_visualize(data, symbol, interval)\n"
   ]
  },
  {
   "cell_type": "markdown",
   "id": "883f373c-d78d-45e9-b697-f1b1099e11f3",
   "metadata": {},
   "source": [
    "### The Next step is to enrich the Database by adding indicators\n",
    "- Indicators we use are RSI\n",
    "\n",
    "  "
   ]
  },
  {
   "cell_type": "code",
   "execution_count": 97,
   "id": "5e1bba03-ecce-4a6b-aa51-0f863da51044",
   "metadata": {},
   "outputs": [],
   "source": [
    "def add_indicators(data, period):\n",
    "    rsi_period = 14\n",
    "    RSI = RSIIndicator(close = data['close'], window = rsi_period).rsi()\n",
    "    data_rsi = pd.DataFrame(RSI.dropna())\n",
    "    data_rsi = data_rsi.reset_index().drop('index', axis = 1)\n",
    "\n",
    "    return data_rsi\n",
    "\n",
    "\n",
    "    \n",
    "    \n",
    "    "
   ]
  },
  {
   "cell_type": "code",
   "execution_count": 100,
   "id": "672fc011-b497-4b07-b4db-4a4d36c78b54",
   "metadata": {},
   "outputs": [],
   "source": [
    "from ta.trend import *"
   ]
  },
  {
   "cell_type": "code",
   "execution_count": 102,
   "id": "d259a01f-7559-4889-b5ce-2d88d502451a",
   "metadata": {},
   "outputs": [
    {
     "ename": "NameError",
     "evalue": "name 'ema' is not defined",
     "output_type": "error",
     "traceback": [
      "\u001b[0;31m---------------------------------------------------------------------------\u001b[0m",
      "\u001b[0;31mNameError\u001b[0m                                 Traceback (most recent call last)",
      "Cell \u001b[0;32mIn[102], line 1\u001b[0m\n\u001b[0;32m----> 1\u001b[0m ema \u001b[38;5;241m=\u001b[39m \u001b[43mema\u001b[49m(data[\u001b[38;5;124m'\u001b[39m\u001b[38;5;124mclose\u001b[39m\u001b[38;5;124m'\u001b[39m], window\u001b[38;5;241m=\u001b[39m\u001b[38;5;241m5\u001b[39m)\n",
      "\u001b[0;31mNameError\u001b[0m: name 'ema' is not defined"
     ]
    }
   ],
   "source": [
    "ema = ema(data['close'], window=5)"
   ]
  },
  {
   "cell_type": "code",
   "execution_count": null,
   "id": "98e3d8ed-c3d3-47d6-b080-e81e8bc80cf7",
   "metadata": {},
   "outputs": [],
   "source": []
  }
 ],
 "metadata": {
  "kernelspec": {
   "display_name": "Python 3 (ipykernel)",
   "language": "python",
   "name": "python3"
  },
  "language_info": {
   "codemirror_mode": {
    "name": "ipython",
    "version": 3
   },
   "file_extension": ".py",
   "mimetype": "text/x-python",
   "name": "python",
   "nbconvert_exporter": "python",
   "pygments_lexer": "ipython3",
   "version": "3.8.8"
  }
 },
 "nbformat": 4,
 "nbformat_minor": 5
}
