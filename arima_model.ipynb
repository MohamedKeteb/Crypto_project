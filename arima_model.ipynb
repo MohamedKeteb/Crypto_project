{
 "cells": [
  {
   "cell_type": "code",
   "execution_count": null,
   "metadata": {},
   "outputs": [],
   "source": [
    "# crypto_module importation #\n",
    "\n",
    "from crypto_module import *"
   ]
  },
  {
   "cell_type": "markdown",
   "metadata": {},
   "source": [
    "# **Third Model : ARIMA model**\n",
    "\n",
    "### **I-Introduction**\n",
    "\n",
    "**ARIMA** stands for **Auto-Regressive Integrated Moving Average** and is a product of two models : \n",
    "\n",
    "- **Auto-Regressive model (AR)** parametized by a value p, which allows to predict the future value of a time series through a regression on its last p values.\n",
    "\n",
    "- **Moving Average model (MA)** parametized by a value q, which instead of using past forecast values uses past forecast errors in a regression-like model and aim to improve the model's forecasts by knowing how far off our prediction from yesterday was compared to the actual value. The forcasts are made based on the last q periods before the current period.\n",
    "\n",
    "\n",
    "**ARIMA** model have a last parameter, the order of differenciation d, which is the number of times we must differenciate the time series to make it stationnary. **Stationnary is a must-have feature** in our time series that allows us to apply the two components (AR, MA) of the ARIMA model.\n",
    "\n",
    "\n",
    "To sum up, we aim to predict the close cotation by using an **ARIMA(p,d,q)** model. From now on, we focus on the determination of the parameters **p,d,q**."
   ]
  },
  {
   "cell_type": "markdown",
   "metadata": {},
   "source": [
    "### **II-Loading and visualizing the data**"
   ]
  },
  {
   "cell_type": "markdown",
   "metadata": {},
   "source": [
    "We use the API to load the data. We focus on the bitcoin daily cotations in USD between 2021 and 2022"
   ]
  },
  {
   "cell_type": "code",
   "execution_count": null,
   "metadata": {},
   "outputs": [],
   "source": [
    "symbol = 'BTC/USD'\n",
    "interval = '1day'\n",
    "start_date = '2021-01-01 00:00:00'\n",
    "end_date = '2022-12-31 00:00:00'"
   ]
  },
  {
   "cell_type": "code",
   "execution_count": null,
   "metadata": {},
   "outputs": [],
   "source": [
    "data = load_data(symbol, start_date, end_date, interval)\n",
    "\n",
    "data.head(n = 10)\n",
    "\n",
    "visualize_data(data, symbol, interval)"
   ]
  },
  {
   "cell_type": "markdown",
   "metadata": {},
   "source": [
    "The previous plot showed a great volatility in the price. Let's plot the price along with its moving statistic. A stationnary time series is expected to have these features constant in time."
   ]
  },
  {
   "cell_type": "code",
   "execution_count": null,
   "metadata": {},
   "outputs": [],
   "source": [
    "data = add_arima_indicators(data, \"close\", period = 14) \n",
    "\n",
    "arima_viz_with_indicator(data,symbol, interval)"
   ]
  },
  {
   "cell_type": "markdown",
   "metadata": {},
   "source": [
    "As we can see, there is no real stationnarity in this time series.\n",
    "\n",
    "Let's apply logarithmic transformation to the data in order to reduce the variation strength."
   ]
  },
  {
   "cell_type": "code",
   "execution_count": null,
   "metadata": {},
   "outputs": [],
   "source": [
    "log_data = add_arima_indicators(data, \"close\", period = 14, ln = True) \n",
    "\n",
    "arima_viz_with_indicator(log_data, symbol, interval)"
   ]
  },
  {
   "cell_type": "markdown",
   "metadata": {},
   "source": [
    "The amplitude of the variations are well-reduced as we can see oh the axis "
   ]
  },
  {
   "cell_type": "markdown",
   "metadata": {},
   "source": [
    "### **III-Stationnarity test**\n",
    "\n",
    "We observed a downward trend and a non-constant variance in the previous plots. Our series is far from stationnary\n",
    "\n",
    "Two tests can help us confirm wether the series is stationnary or not :\n",
    "\n",
    "- The **Augmented Dicky Fuller Test (ADF Test)** : H0 = The series is non-stationary. The more negative the ADF number is, the more prominent the rejection of the null hypothesis that the time series is non-stationary.\n",
    "\n",
    "- The **Kwiatkowski–Phillips–Schmidt–Shin (KPSS)**: H0 = The series is stationary. The higher the test statistic, the more prominent the rejection of the null hypothesis that the series is stationary.\n",
    "\n",
    "\n",
    "Let's perform an example on the original series."
   ]
  },
  {
   "cell_type": "code",
   "execution_count": null,
   "metadata": {},
   "outputs": [],
   "source": [
    "adf_test(data, \"close\")\n",
    "kpss_test(data, 'close')"
   ]
  },
  {
   "cell_type": "code",
   "execution_count": null,
   "metadata": {},
   "outputs": [],
   "source": [
    "adf_test(log_data, \"close\")\n",
    "kpss_test(log_data, \"close\")"
   ]
  },
  {
   "cell_type": "markdown",
   "metadata": {},
   "source": [
    "The ADF test failed to reject the null hypothesis while the KPSS rejects its null hypothesis with a very small p-value in both cases. It firmly confirms the non-stationnarity of the time series or its log.\n",
    "\n",
    "Since the ADF gave better results in the log case, we will keep the log series from now on in our analysis."
   ]
  },
  {
   "cell_type": "markdown",
   "metadata": {},
   "source": [
    "### **IV-Differenciation order**\n",
    "\n",
    "To calibrate our ARIMA model and achieve stationnarity we will need to differenciate our data at least once.\n",
    "\n",
    "To do so, we differenciate the data d times and run the ADF and KPSS test until we obtain p-values respectively lower and higher than 5% so that we can assume stationnarity."
   ]
  },
  {
   "cell_type": "code",
   "execution_count": null,
   "metadata": {},
   "outputs": [],
   "source": [
    "d, diff_data = find_diff_order(log_data, \"close\", to_print= False)\n"
   ]
  },
  {
   "cell_type": "markdown",
   "metadata": {},
   "source": [
    "As the result showed a **first-order** differenciation results in success for both ADF and KPSS test. \n",
    "\n",
    "We got our first parameter, **d = 1** with the function we implemented.\n",
    "\n",
    "We can look how the data behave after the first order differenciation"
   ]
  },
  {
   "cell_type": "code",
   "execution_count": null,
   "metadata": {},
   "outputs": [],
   "source": [
    "visualize_data(diff_data, symbol, interval)\n",
    "print(f\"The order of differenciation is {d}\")"
   ]
  },
  {
   "cell_type": "markdown",
   "metadata": {},
   "source": [
    "It looks far more stationnary than the original series."
   ]
  },
  {
   "cell_type": "markdown",
   "metadata": {},
   "source": [
    "### **V-Auto-Regression and Moving Average parameters**\n",
    "\n",
    "In this part we aim at compute the p and q parameters of our ARIMA model. \n",
    "\n",
    "For this sake, we might plot the **Auto Correlation Function (ACF)** and **Partial Auto Correlation Function (PACF)** plot functions. \n",
    "\n",
    "- **ACF** plot displays the correlation coefficients between a time series and its lag values. It explains how the present value of a given time series is related to previous values. \n",
    "- **PACF** correlates the impact on n(k) of n(k-3) that are not predicted by n(k-1) and n(k-2). \n",
    "\n",
    "We look for significant points outside the shaded area and a geometric decay if we are dealing with a times series where ARIMA may be appropriate.\n",
    "\n"
   ]
  },
  {
   "cell_type": "markdown",
   "metadata": {},
   "source": [
    "##### **01- ACF and PACF plots**"
   ]
  },
  {
   "cell_type": "code",
   "execution_count": null,
   "metadata": {},
   "outputs": [],
   "source": [
    "acf_pacf(diff_data, 'close')"
   ]
  },
  {
   "cell_type": "markdown",
   "metadata": {},
   "source": [
    "The ACF and PACF plots, shows some significant points (ninth lag for example), but no geometric decay.\n",
    "\n",
    "What we are seeing is likely an ARIMA(0, 1, 0) model, meaning our differenced data will be what is known as **“white noise”** and  our original data a **“random walk”** and therefore the best prediction we can do of the current is by using the precedent value.\n",
    "\n",
    "Before moving forward, we need to check those hypothesis.\n"
   ]
  },
  {
   "cell_type": "markdown",
   "metadata": {},
   "source": [
    "##### **02- Is our data a white noise ?**\n",
    "\n",
    "If the variables are independent and identically distributed with a mean of zero, the time series is white noise. Let's check this possibility.\n",
    "\n",
    "We'll proceed in two steps :\n",
    "\n",
    "- Splitting the dataset in two parts and observe the distributions\n",
    "- Compute the Ljung-box test for which H0 = Data is independently distributed."
   ]
  },
  {
   "cell_type": "markdown",
   "metadata": {},
   "source": [
    "###### **02a- SPLITTING THE DATA**"
   ]
  },
  {
   "cell_type": "code",
   "execution_count": null,
   "metadata": {},
   "outputs": [],
   "source": [
    "fast_dist_check(diff_data, 'close')"
   ]
  },
  {
   "cell_type": "markdown",
   "metadata": {},
   "source": [
    "BAD NEWS : As we can see the distribution varies is quite similar in the samples. We can not rule out the hypothesis of our differenced data to be white noise.\n",
    "\n",
    "Now we are performing the Ljung-box test"
   ]
  },
  {
   "cell_type": "markdown",
   "metadata": {},
   "source": [
    "###### **02b- COMPUTING LJUNG-BOX TEST**"
   ]
  },
  {
   "cell_type": "code",
   "execution_count": null,
   "metadata": {},
   "outputs": [],
   "source": [
    "LB_test(diff_data, 'close')"
   ]
  },
  {
   "cell_type": "markdown",
   "metadata": {},
   "source": [
    "The Ljung-box test fails to reject the null hypothesis"
   ]
  },
  {
   "cell_type": "markdown",
   "metadata": {},
   "source": [
    "##### **03- Using Auto-ARIMA**\n",
    "\n",
    "The function called “Auto-Arima” from the pmdarima package fit and test a selection of models and return the model with the lowest **Akaike Information Criterion (AIC)** value. "
   ]
  },
  {
   "cell_type": "code",
   "execution_count": null,
   "metadata": {},
   "outputs": [],
   "source": [
    "auto_arima(data, \"close\")"
   ]
  },
  {
   "cell_type": "markdown",
   "metadata": {},
   "source": [
    "The Auto-arima process states the best fit for the data is an ARIMA(). It's the same results for every information criterion we can use in the process (hqic, bic, oob..). It reinforces the idea of our differenced data being white noise."
   ]
  },
  {
   "cell_type": "markdown",
   "metadata": {},
   "source": [
    "### **VI- FORECASTING FUTURE VALUES**"
   ]
  },
  {
   "cell_type": "markdown",
   "metadata": {},
   "source": [
    "Since we obtained significant correlation for the ninth lag value, we will still try to predict future values with an auto-regression order and moving average of 10. Let's the results ! "
   ]
  },
  {
   "cell_type": "code",
   "execution_count": null,
   "metadata": {},
   "outputs": [],
   "source": [
    "model(data, \"close\",30, end_date, symbol,interval, 10,1,10)"
   ]
  },
  {
   "cell_type": "markdown",
   "metadata": {},
   "source": [
    "### **VII-CONCLUSIONS**\n",
    "\n",
    "We clearly see at sight the inefficiency of the forecasting renforcing the idea that the price is more likely to be a random walk. \n",
    "\n",
    "The models fails to reproduce the sudden jumps of the price that we can observe in reality"
   ]
  }
 ],
 "metadata": {
  "kernelspec": {
   "display_name": "Python 3 (ipykernel)",
   "language": "python",
   "name": "python3"
  },
  "language_info": {
   "codemirror_mode": {
    "name": "ipython",
    "version": 3
   },
   "file_extension": ".py",
   "mimetype": "text/x-python",
   "name": "python",
   "nbconvert_exporter": "python",
   "pygments_lexer": "ipython3",
   "version": "3.10.13"
  }
 },
 "nbformat": 4,
 "nbformat_minor": 4
}
